{
 "cells": [
  {
   "cell_type": "code",
   "execution_count": null,
   "metadata": {},
   "outputs": [],
   "source": [
    "#to check whether the number is a palindrome number.\n",
    "n=int(input(\"Enter a Number \"))\n",
    "m=n\n",
    "sum=0\n",
    "while(m>0):\n",
    "    rem=m%10\n",
    "    sum=sum*10+rem\n",
    "    m=m//10\n",
    "if(sum==n):\n",
    "    print(n,\"is a Palindrome Number\")\n",
    "else:\n",
    "    print(n,\"is not a Palindrome Number\")\n"
   ]
  }
 ],
 "metadata": {
  "kernelspec": {
   "display_name": "Python 3",
   "language": "python",
   "name": "python3"
  },
  "language_info": {
   "codemirror_mode": {
    "name": "ipython",
    "version": 3
   },
   "file_extension": ".py",
   "mimetype": "text/x-python",
   "name": "python",
   "nbconvert_exporter": "python",
   "pygments_lexer": "ipython3",
   "version": "3.7.3"
  }
 },
 "nbformat": 4,
 "nbformat_minor": 2
}
